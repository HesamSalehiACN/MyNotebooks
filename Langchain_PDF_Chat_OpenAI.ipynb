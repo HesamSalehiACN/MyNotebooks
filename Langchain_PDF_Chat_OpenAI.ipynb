{
  "nbformat": 4,
  "nbformat_minor": 0,
  "metadata": {
    "colab": {
      "provenance": []
    },
    "kernelspec": {
      "name": "python3",
      "display_name": "Python 3"
    },
    "language_info": {
      "name": "python"
    }
  },
  "cells": [
    {
      "cell_type": "code",
      "execution_count": null,
      "metadata": {
        "id": "xZX97Z_4-ELc"
      },
      "outputs": [],
      "source": [
        "!pip install PyPDF2 huggingface_hub langchain transformers InstructorEmbedding sentence-transformers chromadb openai requests tiktoken faiss-gpu faiss-cpu"
      ]
    },
    {
      "cell_type": "code",
      "source": [
        "from langchain.embeddings.openai import OpenAIEmbeddings\n",
        "from langchain.text_splitter import CharacterTextSplitter\n",
        "from langchain.vectorstores import Chroma\n",
        "from langchain.docstore.document import Document\n",
        "from langchain.prompts import PromptTemplate\n",
        "from langchain.indexes.vectorstore import VectorstoreIndexCreator\n",
        "from langchain.embeddings import OpenAIEmbeddings, HuggingFaceInstructEmbeddings\n",
        "from langchain.chat_models import ChatOpenAI\n",
        "from langchain.chains.question_answering import load_qa_chain\n",
        "from langchain.llms import OpenAI\n",
        "import requests\n",
        "import os\n",
        "from PyPDF2 import PdfReader\n",
        "import chromadb\n",
        "import openai"
      ],
      "metadata": {
        "id": "2R0p8rLO_L9l"
      },
      "execution_count": 11,
      "outputs": []
    },
    {
      "cell_type": "code",
      "source": [
        "def download_pdf_from_url(url, filename):\n",
        "    response = requests.get(url)\n",
        "    with open(filename, 'wb') as file:\n",
        "        file.write(response.content)\n",
        "\n",
        "\n",
        "def get_pdf_text(pdf_files):\n",
        "    text = \"\"\n",
        "    for pdf in pdf_files:\n",
        "        pdf_reader = PdfReader(pdf)\n",
        "        for page in pdf_reader.pages:\n",
        "            text += page.extract_text()\n",
        "    return text\n",
        "\n",
        "\n",
        "if __name__ == \"__main__\":\n",
        "    pdf_urls = [\n",
        "        'https://assets.grpumps.com/spec_sheets/0700475.pdf',\n",
        "        'https://assets.grpumps.com/spec_sheets/0350200.pdf'\n",
        "    ]\n",
        "\n",
        "    pdf_files = []\n",
        "    for i, pdf_url in enumerate(pdf_urls):\n",
        "        filename = f\"temp_pdf_{i}.pdf\"\n",
        "        download_pdf_from_url(pdf_url, filename)\n",
        "        pdf_files.append(filename)\n",
        "\n",
        "    concatenated_text = get_pdf_text(pdf_files)\n",
        "    print(concatenated_text)\n",
        "\n",
        "    # Clean up - delete the temporary PDF files\n",
        "    for pdf_file in pdf_files:\n",
        "        os.remove(pdf_file)\n"
      ],
      "metadata": {
        "id": "Vj8KoITJGdKI"
      },
      "execution_count": null,
      "outputs": []
    },
    {
      "cell_type": "code",
      "source": [
        "text_splitter = CharacterTextSplitter(chunk_size=1000, chunk_overlap=100)\n",
        "source_text = text_splitter.split_text(concatenated_text)\n",
        "\n",
        "my_api_key = 'Enter OpenAI API Key'\n",
        "\n",
        "embeddings = OpenAIEmbeddings(openai_api_key = my_api_key)"
      ],
      "metadata": {
        "id": "D2bMtT5B_cCe"
      },
      "execution_count": 20,
      "outputs": []
    },
    {
      "cell_type": "code",
      "source": [
        "from langchain.vectorstores import FAISS\n",
        "db = FAISS.from_texts(source_text, embeddings)"
      ],
      "metadata": {
        "id": "3fRNVHSgC7F6"
      },
      "execution_count": 21,
      "outputs": []
    },
    {
      "cell_type": "code",
      "source": [
        "llm = ChatOpenAI(openai_api_key = my_api_key, temperature = 0)\n",
        "chain = load_qa_chain(llm, chain_type=\"stuff\")"
      ],
      "metadata": {
        "id": "gGOsTKbu_HMf"
      },
      "execution_count": 25,
      "outputs": []
    },
    {
      "cell_type": "code",
      "source": [
        "query = input(\"Your question: \")\n",
        "docs = db.similarity_search(query)\n",
        "chain.run(input_documents=docs, question=query)"
      ],
      "metadata": {
        "id": "T_rgoTpjH6ns"
      },
      "execution_count": null,
      "outputs": []
    }
  ]
}